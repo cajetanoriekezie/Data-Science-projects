{
  "cells": [
    {
      "cell_type": "markdown",
      "metadata": {
        "id": "view-in-github",
        "colab_type": "text"
      },
      "source": [
        "<a href=\"https://colab.research.google.com/github/cajetanoriekezie/Data-Science-projects/blob/main/webscraping_notebook.ipynb\" target=\"_parent\"><img src=\"https://colab.research.google.com/assets/colab-badge.svg\" alt=\"Open In Colab\"/></a>"
      ]
    },
    {
      "cell_type": "code",
      "execution_count": null,
      "id": "697836c3",
      "metadata": {
        "id": "697836c3"
      },
      "outputs": [],
      "source": [
        "#!pip install beautifulsoup4 requests openpyxl"
      ]
    },
    {
      "cell_type": "code",
      "execution_count": null,
      "id": "9ff28686",
      "metadata": {
        "id": "9ff28686"
      },
      "outputs": [],
      "source": [
        "import requests\n",
        "from bs4 import BeautifulSoup\n",
        "import openpyxl"
      ]
    },
    {
      "cell_type": "code",
      "execution_count": null,
      "id": "ec44eb7c",
      "metadata": {
        "id": "ec44eb7c",
        "outputId": "4e911922-ecb6-4880-f23c-cd7d8fc06ffb"
      },
      "outputs": [
        {
          "data": {
            "text/plain": [
              "<Response [200]>"
            ]
          },
          "execution_count": 9,
          "metadata": {},
          "output_type": "execute_result"
        }
      ],
      "source": [
        "import requests\n",
        "requests.get('http://disclosures.ifc.org/enterprise-search-results-home')"
      ]
    },
    {
      "cell_type": "code",
      "execution_count": null,
      "id": "16477dc1",
      "metadata": {
        "scrolled": false,
        "id": "16477dc1"
      },
      "outputs": [],
      "source": [
        "import xml.etree.ElementTree as ET\n",
        "# URL of the website\n",
        "url = \"http://disclosures.ifc.org/enterprise-search-results-home\"\n",
        "\n",
        "# Send a GET request to the website\n",
        "response = requests.get(url)\n",
        "soup = BeautifulSoup(response.content, 'lxml')\n",
        "\n"
      ]
    },
    {
      "cell_type": "code",
      "execution_count": null,
      "id": "64d67a77",
      "metadata": {
        "id": "64d67a77",
        "outputId": "ad375847-a4ce-420d-94a2-2a23a4d2a7e5"
      },
      "outputs": [
        {
          "name": "stdout",
          "output_type": "stream",
          "text": [
            "{'Project Name': 'Healthspring', 'Project Link': 'https://disclosures.ifc.org/project-detail/ESRS/46672/healthspring', 'Country': 'India'}\n",
            "{'Project Name': 'Healthspring', 'Project Link': 'https://disclosures.ifc.org/project-detail/SII/46672/healthspring', 'Country': 'India'}\n",
            "{'Project Name': 'DCM BPI', 'Project Link': 'https://disclosures.ifc.org/project-detail/SII/47671/dcm-bpi', 'Country': 'Philippines'}\n",
            "{'Project Name': 'GCap SL Bond', 'Project Link': 'https://disclosures.ifc.org/project-detail/ESRS/48231/gcap-sl-bond', 'Country': 'Georgia'}\n",
            "{'Project Name': 'GCap SL Bond', 'Project Link': 'https://disclosures.ifc.org/project-detail/SII/48231/gcap-sl-bond', 'Country': 'Georgia'}\n",
            "{'Project Name': 'CnC-Tembo Hydro', 'Project Link': 'https://disclosures.ifc.org/project-detail/SIVP/48075/cnc-tembo-hydro', 'Country': 'Burundi'}\n",
            "{'Project Name': 'BioVac - Pfizer', 'Project Link': 'https://disclosures.ifc.org/project-detail/ESRS/46582/biovac-pfizer', 'Country': 'South Africa'}\n",
            "{'Project Name': 'BioVac - Pfizer', 'Project Link': 'https://disclosures.ifc.org/project-detail/SII/46582/biovac-pfizer', 'Country': 'South Africa'}\n",
            "{'Project Name': 'DCM B3T2 BT', 'Project Link': 'https://disclosures.ifc.org/project-detail/SII/47831/dcm-b3t2-bt', 'Country': 'Romania'}\n",
            "{'Project Name': 'Brookfield RJ', 'Project Link': 'https://disclosures.ifc.org/project-detail/ESRS/47975/brookfield-rj', 'Country': 'India'}\n"
          ]
        }
      ],
      "source": [
        "from bs4 import BeautifulSoup\n",
        "\n",
        "def extract_project_data(html_content):\n",
        "    soup = BeautifulSoup(html_content, \"html.parser\")\n",
        "    project_data = []\n",
        "\n",
        "    # Find all projects\n",
        "    projects_divs = soup.find_all(\"div\", class_=\"row margin-top15 projects\")\n",
        "\n",
        "    for project_div in projects_divs:\n",
        "\n",
        "        # Project name and link\n",
        "        project_link_element = project_div.find(\"a\", class_=\"search-head\")\n",
        "        project_name = project_link_element.text.strip() if project_link_element else None\n",
        "        project_link = project_link_element[\"href\"] if project_link_element else None\n",
        "\n",
        "        # Country\n",
        "        country_div = project_div.find(\"div\", class_=\"col-3 col-sm-3 col-md-3 col-lg-3 col-xl-3 search_result_col padding0\")\n",
        "        if country_div:\n",
        "            country = country_div.find(\"div\", class_=\"spi-text padding0 esrs-value\")\n",
        "            country = country.text.strip() if country else None\n",
        "        else:\n",
        "            country = None\n",
        "\n",
        "        # Append to the project_data list\n",
        "        project_data.append({\n",
        "            \"Project Name\": project_name,\n",
        "            \"Project Link\": project_link,\n",
        "            \"Country\": country\n",
        "        })\n",
        "\n",
        "    return project_data\n",
        "\n",
        "# Usage example:\n",
        "with open(\"disclosure_search.html\", \"r\") as file:\n",
        "    html_content = file.read()\n",
        "    data = extract_project_data(html_content)\n",
        "    for project in data:\n",
        "        print(project)\n"
      ]
    },
    {
      "cell_type": "code",
      "execution_count": null,
      "id": "d8fbda41",
      "metadata": {
        "id": "d8fbda41"
      },
      "outputs": [],
      "source": [
        "#project_data = extract_project_data(soup)"
      ]
    },
    {
      "cell_type": "code",
      "execution_count": null,
      "id": "31ba86be",
      "metadata": {
        "id": "31ba86be",
        "outputId": "425f8fdf-165b-4070-b427-549ae41ec711"
      },
      "outputs": [
        {
          "data": {
            "text/html": [
              "<div>\n",
              "<style scoped>\n",
              "    .dataframe tbody tr th:only-of-type {\n",
              "        vertical-align: middle;\n",
              "    }\n",
              "\n",
              "    .dataframe tbody tr th {\n",
              "        vertical-align: top;\n",
              "    }\n",
              "\n",
              "    .dataframe thead th {\n",
              "        text-align: right;\n",
              "    }\n",
              "</style>\n",
              "<table border=\"1\" class=\"dataframe\">\n",
              "  <thead>\n",
              "    <tr style=\"text-align: right;\">\n",
              "      <th></th>\n",
              "      <th>Project Name</th>\n",
              "      <th>Project Link</th>\n",
              "      <th>Country</th>\n",
              "    </tr>\n",
              "  </thead>\n",
              "  <tbody>\n",
              "    <tr>\n",
              "      <th>0</th>\n",
              "      <td>Healthspring</td>\n",
              "      <td>https://disclosures.ifc.org/project-detail/ESR...</td>\n",
              "      <td>India</td>\n",
              "    </tr>\n",
              "    <tr>\n",
              "      <th>1</th>\n",
              "      <td>Healthspring</td>\n",
              "      <td>https://disclosures.ifc.org/project-detail/SII...</td>\n",
              "      <td>India</td>\n",
              "    </tr>\n",
              "    <tr>\n",
              "      <th>2</th>\n",
              "      <td>DCM BPI</td>\n",
              "      <td>https://disclosures.ifc.org/project-detail/SII...</td>\n",
              "      <td>Philippines</td>\n",
              "    </tr>\n",
              "    <tr>\n",
              "      <th>3</th>\n",
              "      <td>GCap SL Bond</td>\n",
              "      <td>https://disclosures.ifc.org/project-detail/ESR...</td>\n",
              "      <td>Georgia</td>\n",
              "    </tr>\n",
              "    <tr>\n",
              "      <th>4</th>\n",
              "      <td>GCap SL Bond</td>\n",
              "      <td>https://disclosures.ifc.org/project-detail/SII...</td>\n",
              "      <td>Georgia</td>\n",
              "    </tr>\n",
              "    <tr>\n",
              "      <th>5</th>\n",
              "      <td>CnC-Tembo Hydro</td>\n",
              "      <td>https://disclosures.ifc.org/project-detail/SIV...</td>\n",
              "      <td>Burundi</td>\n",
              "    </tr>\n",
              "    <tr>\n",
              "      <th>6</th>\n",
              "      <td>BioVac - Pfizer</td>\n",
              "      <td>https://disclosures.ifc.org/project-detail/ESR...</td>\n",
              "      <td>South Africa</td>\n",
              "    </tr>\n",
              "    <tr>\n",
              "      <th>7</th>\n",
              "      <td>BioVac - Pfizer</td>\n",
              "      <td>https://disclosures.ifc.org/project-detail/SII...</td>\n",
              "      <td>South Africa</td>\n",
              "    </tr>\n",
              "    <tr>\n",
              "      <th>8</th>\n",
              "      <td>DCM B3T2 BT</td>\n",
              "      <td>https://disclosures.ifc.org/project-detail/SII...</td>\n",
              "      <td>Romania</td>\n",
              "    </tr>\n",
              "    <tr>\n",
              "      <th>9</th>\n",
              "      <td>Brookfield RJ</td>\n",
              "      <td>https://disclosures.ifc.org/project-detail/ESR...</td>\n",
              "      <td>India</td>\n",
              "    </tr>\n",
              "  </tbody>\n",
              "</table>\n",
              "</div>"
            ],
            "text/plain": [
              "      Project Name                                       Project Link  \\\n",
              "0     Healthspring  https://disclosures.ifc.org/project-detail/ESR...   \n",
              "1     Healthspring  https://disclosures.ifc.org/project-detail/SII...   \n",
              "2          DCM BPI  https://disclosures.ifc.org/project-detail/SII...   \n",
              "3     GCap SL Bond  https://disclosures.ifc.org/project-detail/ESR...   \n",
              "4     GCap SL Bond  https://disclosures.ifc.org/project-detail/SII...   \n",
              "5  CnC-Tembo Hydro  https://disclosures.ifc.org/project-detail/SIV...   \n",
              "6  BioVac - Pfizer  https://disclosures.ifc.org/project-detail/ESR...   \n",
              "7  BioVac - Pfizer  https://disclosures.ifc.org/project-detail/SII...   \n",
              "8      DCM B3T2 BT  https://disclosures.ifc.org/project-detail/SII...   \n",
              "9    Brookfield RJ  https://disclosures.ifc.org/project-detail/ESR...   \n",
              "\n",
              "        Country  \n",
              "0         India  \n",
              "1         India  \n",
              "2   Philippines  \n",
              "3       Georgia  \n",
              "4       Georgia  \n",
              "5       Burundi  \n",
              "6  South Africa  \n",
              "7  South Africa  \n",
              "8       Romania  \n",
              "9         India  "
            ]
          },
          "execution_count": 25,
          "metadata": {},
          "output_type": "execute_result"
        }
      ],
      "source": [
        "import pandas as pd\n",
        "\n",
        "project_data = pd.DataFrame(data)\n",
        "project_data"
      ]
    },
    {
      "cell_type": "code",
      "execution_count": null,
      "id": "2f2310fa",
      "metadata": {
        "id": "2f2310fa"
      },
      "outputs": [],
      "source": [
        "from bs4 import BeautifulSoup\n",
        "\n",
        "def extract_project_details_from_html(html_content):\n",
        "    soup = BeautifulSoup(html_content, \"html.parser\")\n",
        "    project_details = {}\n",
        "\n",
        "    # Extracting \"Disclaimer text data\"\n",
        "    disclaimer_div = soup.find(\"div\", class_=\"card-body disclaimer-text\")\n",
        "    if disclaimer_div:\n",
        "        disclaimer_data = disclaimer_div.get_text(strip=True)\n",
        "        project_details[\"Disclaimer text data\"] = disclaimer_data\n",
        "\n",
        "    # Extracting \"Project Description\"\n",
        "    project_description_div = soup.find(\"app-sii-project-description\")\n",
        "    if project_description_div:\n",
        "        project_description = project_description_div.find(\"div\", class_=\"esrs-value overflow-auto remove-style\")\n",
        "        project_details[\"Project Description\"] = project_description.get_text(strip=True) if project_description else None\n",
        "\n",
        "    # Extracting \"Country\"\n",
        "    country_value_div = soup.select_one(\"div.esrs-name:contains('Country') + div .esrs-value\")\n",
        "    if country_value_div:\n",
        "        project_details[\"Country\"] = country_value_div.get_text(strip=True)\n",
        "\n",
        "    # Extracting other attributes\n",
        "    attributes = [\n",
        "        \"Project Number\",\n",
        "        \"Environmental Category\",\n",
        "        \"Sector\",\n",
        "        \"Company Name\",\n",
        "        \"Region\",\n",
        "        \"Status\",\n",
        "        \"Industry\",\n",
        "        \"Date ESRS Disclosed\",\n",
        "        \"Previous Events\",\n",
        "        \"Department\",\n",
        "        \"Overview of IFC's Scope of Review\"\n",
        "    ]\n",
        "\n",
        "    for attribute in attributes:\n",
        "        # Searching for the attribute title\n",
        "        title_element = soup.find(\"div\", string=attribute)\n",
        "        if title_element:\n",
        "            # Extracting the associated data for the attribute\n",
        "            data_element = title_element.find_next(\"div\")\n",
        "            project_details[attribute] = data_element.get_text(strip=True) if data_element else None\n",
        "        else:\n",
        "            project_details[attribute] = None\n",
        "\n",
        "    return project_details\n",
        "\n",
        "# Usage example:\n",
        "with open(\"DCM-BPI.html\", \"r\", encoding=\"utf-8\") as file:\n",
        "    html_content = file.read()\n",
        "    data = extract_project_details_from_html(html_content)"
      ]
    },
    {
      "cell_type": "code",
      "execution_count": null,
      "id": "8800f6cf",
      "metadata": {
        "id": "8800f6cf",
        "outputId": "f3e80f3f-66a8-4683-b586-6e7a043c9dcb"
      },
      "outputs": [
        {
          "data": {
            "text/html": [
              "<div>\n",
              "<style scoped>\n",
              "    .dataframe tbody tr th:only-of-type {\n",
              "        vertical-align: middle;\n",
              "    }\n",
              "\n",
              "    .dataframe tbody tr th {\n",
              "        vertical-align: top;\n",
              "    }\n",
              "\n",
              "    .dataframe thead th {\n",
              "        text-align: right;\n",
              "    }\n",
              "</style>\n",
              "<table border=\"1\" class=\"dataframe\">\n",
              "  <thead>\n",
              "    <tr style=\"text-align: right;\">\n",
              "      <th></th>\n",
              "      <th>Disclaimer text data</th>\n",
              "      <th>Project Description</th>\n",
              "      <th>Country</th>\n",
              "      <th>Project Number</th>\n",
              "      <th>Environmental Category</th>\n",
              "      <th>Sector</th>\n",
              "      <th>Company Name</th>\n",
              "      <th>Region</th>\n",
              "      <th>Status</th>\n",
              "      <th>Industry</th>\n",
              "      <th>Date ESRS Disclosed</th>\n",
              "      <th>Previous Events</th>\n",
              "      <th>Department</th>\n",
              "      <th>Overview of IFC's Scope of Review</th>\n",
              "    </tr>\n",
              "  </thead>\n",
              "  <tbody>\n",
              "    <tr>\n",
              "      <th>0</th>\n",
              "      <td>This Summary of Investment Information (SII) i...</td>\n",
              "      <td>International Finance Corporation (“IFC”) is c...</td>\n",
              "      <td>Philippines</td>\n",
              "      <td>47671</td>\n",
              "      <td>FI-2</td>\n",
              "      <td>Commercial Banking - General</td>\n",
              "      <td>BANK OF THE PHILIPPINE ISLANDS</td>\n",
              "      <td>East Asia and the Pacific</td>\n",
              "      <td>Pending Disbursement</td>\n",
              "      <td>Financial Institutions</td>\n",
              "      <td>None</td>\n",
              "      <td>Approved : Jun 20, 2023</td>\n",
              "      <td>CF4S4 - Regional Industry - FIG Asia &amp; Pac/FIG...</td>\n",
              "      <td>None</td>\n",
              "    </tr>\n",
              "  </tbody>\n",
              "</table>\n",
              "</div>"
            ],
            "text/plain": [
              "                                Disclaimer text data  \\\n",
              "0  This Summary of Investment Information (SII) i...   \n",
              "\n",
              "                                 Project Description      Country  \\\n",
              "0  International Finance Corporation (“IFC”) is c...  Philippines   \n",
              "\n",
              "  Project Number Environmental Category                        Sector  \\\n",
              "0          47671                   FI-2  Commercial Banking - General   \n",
              "\n",
              "                     Company Name                     Region  \\\n",
              "0  BANK OF THE PHILIPPINE ISLANDS  East Asia and the Pacific   \n",
              "\n",
              "                 Status                Industry Date ESRS Disclosed  \\\n",
              "0  Pending Disbursement  Financial Institutions                None   \n",
              "\n",
              "           Previous Events                                         Department  \\\n",
              "0  Approved : Jun 20, 2023  CF4S4 - Regional Industry - FIG Asia & Pac/FIG...   \n",
              "\n",
              "  Overview of IFC's Scope of Review  \n",
              "0                              None  "
            ]
          },
          "execution_count": 36,
          "metadata": {},
          "output_type": "execute_result"
        }
      ],
      "source": [
        "project_metadata = pd.DataFrame([data])\n",
        "project_metadata"
      ]
    },
    {
      "cell_type": "code",
      "execution_count": null,
      "id": "e701b92c",
      "metadata": {
        "id": "e701b92c"
      },
      "outputs": [],
      "source": []
    }
  ],
  "metadata": {
    "kernelspec": {
      "display_name": "Python 3 (ipykernel)",
      "language": "python",
      "name": "python3"
    },
    "language_info": {
      "codemirror_mode": {
        "name": "ipython",
        "version": 3
      },
      "file_extension": ".py",
      "mimetype": "text/x-python",
      "name": "python",
      "nbconvert_exporter": "python",
      "pygments_lexer": "ipython3",
      "version": "3.9.15"
    },
    "toc": {
      "base_numbering": 1,
      "nav_menu": {},
      "number_sections": true,
      "sideBar": true,
      "skip_h1_title": false,
      "title_cell": "Table of Contents",
      "title_sidebar": "Contents",
      "toc_cell": false,
      "toc_position": {},
      "toc_section_display": true,
      "toc_window_display": false
    },
    "colab": {
      "provenance": [],
      "include_colab_link": true
    }
  },
  "nbformat": 4,
  "nbformat_minor": 5
}